{
 "cells": [
  {
   "cell_type": "code",
   "execution_count": 33,
   "metadata": {},
   "outputs": [],
   "source": [
    "%matplotlib inline\n",
    "import pandas as pd\n",
    "import numpy as np\n",
    "import matplotlib.pyplot as plt\n",
    "from sklearn.cluster import AgglomerativeClustering\n",
    "from sklearn.metrics import silhouette_score\n",
    "from sklearn.metrics.pairwise import pairwise_distances\n",
    "from scipy.cluster.hierarchy import dendrogram, linkage\n",
    "from scipy.cluster.hierarchy import cophenet\n",
    "from scipy.spatial.distance import pdist\n",
    "plt.rcParams[\"figure.figsize\"] = (10, 10)"
   ]
  },
  {
   "cell_type": "code",
   "execution_count": 34,
   "metadata": {},
   "outputs": [],
   "source": [
    "data=pd.read_csv('agglotest.csv')"
   ]
  },
  {
   "cell_type": "code",
   "execution_count": 35,
   "metadata": {},
   "outputs": [
    {
     "data": {
      "text/plain": [
       "<bound method DataFrame.head of     label  1x1  1x2  1x3  1x4  1x5  1x6  1x7  1x8  1x9  ...    28x19  28x20  \\\n",
       "0       5    0    0    0    0    0    0    0    0    0  ...        0      0   \n",
       "1       0    0    0    0    0    0    0    0    0    0  ...        0      0   \n",
       "2       4    0    0    0    0    0    0    0    0    0  ...        0      0   \n",
       "3       1    0    0    0    0    0    0    0    0    0  ...        0      0   \n",
       "4       9    0    0    0    0    0    0    0    0    0  ...        0      0   \n",
       "5       2    0    0    0    0    0    0    0    0    0  ...        0      0   \n",
       "6       1    0    0    0    0    0    0    0    0    0  ...        0      0   \n",
       "7       3    0    0    0    0    0    0    0    0    0  ...        0      0   \n",
       "8       1    0    0    0    0    0    0    0    0    0  ...        0      0   \n",
       "9       4    0    0    0    0    0    0    0    0    0  ...        0      0   \n",
       "10      3    0    0    0    0    0    0    0    0    0  ...        0      0   \n",
       "11      5    0    0    0    0    0    0    0    0    0  ...        0      0   \n",
       "12      3    0    0    0    0    0    0    0    0    0  ...        0      0   \n",
       "13      6    0    0    0    0    0    0    0    0    0  ...        0      0   \n",
       "14      1    0    0    0    0    0    0    0    0    0  ...        0      0   \n",
       "15      7    0    0    0    0    0    0    0    0    0  ...        0      0   \n",
       "16      2    0    0    0    0    0    0    0    0    0  ...        0      0   \n",
       "17      8    0    0    0    0    0    0    0    0    0  ...        0      0   \n",
       "18      6    0    0    0    0    0    0    0    0    0  ...        0      0   \n",
       "19      9    0    0    0    0    0    0    0    0    0  ...        0      0   \n",
       "20      4    0    0    0    0    0    0    0    0    0  ...        0      0   \n",
       "21      0    0    0    0    0    0    0    0    0    0  ...        0      0   \n",
       "22      9    0    0    0    0    0    0    0    0    0  ...        0      0   \n",
       "23      1    0    0    0    0    0    0    0    0    0  ...        0      0   \n",
       "24      1    0    0    0    0    0    0    0    0    0  ...        0      0   \n",
       "25      2    0    0    0    0    0    0    0    0    0  ...        0      0   \n",
       "26      4    0    0    0    0    0    0    0    0    0  ...        0      0   \n",
       "27      3    0    0    0    0    0    0    0    0    0  ...        0      0   \n",
       "28      2    0    0    0    0    0    0    0    0    0  ...        0      0   \n",
       "29      7    0    0    0    0    0    0    0    0    0  ...        0      0   \n",
       "..    ...  ...  ...  ...  ...  ...  ...  ...  ...  ...  ...      ...    ...   \n",
       "69      0    0    0    0    0    0    0    0    0    0  ...        0      0   \n",
       "70      1    0    0    0    0    0    0    0    0    0  ...        0      0   \n",
       "71      7    0    0    0    0    0    0    0    0    0  ...        0      0   \n",
       "72      1    0    0    0    0    0    0    0    0    0  ...        0      0   \n",
       "73      6    0    0    0    0    0    0    0    0    0  ...        0      0   \n",
       "74      3    0    0    0    0    0    0    0    0    0  ...        0      0   \n",
       "75      0    0    0    0    0    0    0    0    0    0  ...        0      0   \n",
       "76      2    0    0    0    0    0    0    0    0    0  ...        0      0   \n",
       "77      1    0    0    0    0    0    0    0    0    0  ...        0      0   \n",
       "78      1    0    0    0    0    0    0    0    0    0  ...        0      0   \n",
       "79      7    0    0    0    0    0    0    0    0    0  ...        0      0   \n",
       "80      9    0    0    0    0    0    0    0    0    0  ...        0      0   \n",
       "81      0    0    0    0    0    0    0    0    0    0  ...        0      0   \n",
       "82      2    0    0    0    0    0    0    0    0    0  ...        0      0   \n",
       "83      6    0    0    0    0    0    0    0    0    0  ...        0      0   \n",
       "84      7    0    0    0    0    0    0    0    0    0  ...        0      0   \n",
       "85      8    0    0    0    0    0    0    0    0    0  ...        0      0   \n",
       "86      3    0    0    0    0    0    0    0    0    0  ...        0      0   \n",
       "87      9    0    0    0    0    0    0    0    0    0  ...        0      0   \n",
       "88      0    0    0    0    0    0    0    0    0    0  ...        0      0   \n",
       "89      4    0    0    0    0    0    0    0    0    0  ...        0      0   \n",
       "90      6    0    0    0    0    0    0    0    0    0  ...        0      0   \n",
       "91      7    0    0    0    0    0    0    0    0    0  ...        0      0   \n",
       "92      4    0    0    0    0    0    0    0    0    0  ...        0      0   \n",
       "93      6    0    0    0    0    0    0    0    0    0  ...        0      0   \n",
       "94      8    0    0    0    0    0    0    0    0    0  ...        0      0   \n",
       "95      0    0    0    0    0    0    0    0    0    0  ...        0      0   \n",
       "96      7    0    0    0    0    0    0    0    0    0  ...        0      0   \n",
       "97      8    0    0    0    0    0    0    0    0    0  ...        0      0   \n",
       "98      3    0    0    0    0    0    0    0    0    0  ...        0      0   \n",
       "\n",
       "    28x21  28x22  28x23  28x24  28x25  28x26  28x27  28x28  \n",
       "0       0      0      0      0      0      0      0      0  \n",
       "1       0      0      0      0      0      0      0      0  \n",
       "2       0      0      0      0      0      0      0      0  \n",
       "3       0      0      0      0      0      0      0      0  \n",
       "4       0      0      0      0      0      0      0      0  \n",
       "5       0      0      0      0      0      0      0      0  \n",
       "6       0      0      0      0      0      0      0      0  \n",
       "7       0      0      0      0      0      0      0      0  \n",
       "8       0      0      0      0      0      0      0      0  \n",
       "9       0      0      0      0      0      0      0      0  \n",
       "10      0      0      0      0      0      0      0      0  \n",
       "11      0      0      0      0      0      0      0      0  \n",
       "12      0      0      0      0      0      0      0      0  \n",
       "13      0      0      0      0      0      0      0      0  \n",
       "14      0      0      0      0      0      0      0      0  \n",
       "15      0      0      0      0      0      0      0      0  \n",
       "16      0      0      0      0      0      0      0      0  \n",
       "17      0      0      0      0      0      0      0      0  \n",
       "18      0      0      0      0      0      0      0      0  \n",
       "19      0      0      0      0      0      0      0      0  \n",
       "20      0      0      0      0      0      0      0      0  \n",
       "21      0      0      0      0      0      0      0      0  \n",
       "22      0      0      0      0      0      0      0      0  \n",
       "23      0      0      0      0      0      0      0      0  \n",
       "24      0      0      0      0      0      0      0      0  \n",
       "25      0      0      0      0      0      0      0      0  \n",
       "26      0      0      0      0      0      0      0      0  \n",
       "27      0      0      0      0      0      0      0      0  \n",
       "28      0      0      0      0      0      0      0      0  \n",
       "29      0      0      0      0      0      0      0      0  \n",
       "..    ...    ...    ...    ...    ...    ...    ...    ...  \n",
       "69      0      0      0      0      0      0      0      0  \n",
       "70      0      0      0      0      0      0      0      0  \n",
       "71      0      0      0      0      0      0      0      0  \n",
       "72      0      0      0      0      0      0      0      0  \n",
       "73      0      0      0      0      0      0      0      0  \n",
       "74      0      0      0      0      0      0      0      0  \n",
       "75      0      0      0      0      0      0      0      0  \n",
       "76      0      0      0      0      0      0      0      0  \n",
       "77      0      0      0      0      0      0      0      0  \n",
       "78      0      0      0      0      0      0      0      0  \n",
       "79      0      0      0      0      0      0      0      0  \n",
       "80      0      0      0      0      0      0      0      0  \n",
       "81      0      0      0      0      0      0      0      0  \n",
       "82      0      0      0      0      0      0      0      0  \n",
       "83      0      0      0      0      0      0      0      0  \n",
       "84      0      0      0      0      0      0      0      0  \n",
       "85      0      0      0      0      0      0      0      0  \n",
       "86      0      0      0      0      0      0      0      0  \n",
       "87      0      0      0      0      0      0      0      0  \n",
       "88      0      0      0      0      0      0      0      0  \n",
       "89      0      0      0      0      0      0      0      0  \n",
       "90      0      0      0      0      0      0      0      0  \n",
       "91      0      0      0      0      0      0      0      0  \n",
       "92      0      0      0      0      0      0      0      0  \n",
       "93      0      0      0      0      0      0      0      0  \n",
       "94      0      0      0      0      0      0      0      0  \n",
       "95      0      0      0      0      0      0      0      0  \n",
       "96      0      0      0      0      0      0      0      0  \n",
       "97      0      0      0      0      0      0      0      0  \n",
       "98      0      0      0      0      0      0      0      0  \n",
       "\n",
       "[99 rows x 785 columns]>"
      ]
     },
     "execution_count": 35,
     "metadata": {},
     "output_type": "execute_result"
    }
   ],
   "source": [
    "data.head"
   ]
  },
  {
   "cell_type": "code",
   "execution_count": 36,
   "metadata": {},
   "outputs": [],
   "source": [
    "X=data.iloc[:,:].values\n",
    "#X[1:10]"
   ]
  },
  {
   "cell_type": "code",
   "execution_count": 37,
   "metadata": {},
   "outputs": [
    {
     "data": {
      "image/png": "[encoded data removed]",
      "text/plain": [
       "<Figure size 720x504 with 1 Axes>"
      ]
     },
     "metadata": {},
     "output_type": "display_data"
    }
   ],
   "source": [
    "import scipy.cluster.hierarchy as shc\n",
    "\n",
    "plt.figure(figsize=(10, 7))\n",
    "plt.axhline(2600)\n",
    "plt.title(\"MNIST Dendograms\")  \n",
    "dend = shc.dendrogram(shc.linkage(X, method='average'))  "
   ]
  },
  {
   "cell_type": "code",
   "execution_count": 38,
   "metadata": {},
   "outputs": [
    {
     "data": {
      "text/plain": [
       "0.7863763739795636"
      ]
     },
     "execution_count": 38,
     "metadata": {},
     "output_type": "execute_result"
    }
   ],
   "source": [
    "Z = linkage(X, 'average')\n",
    "c, coph_dists = cophenet(Z, pdist(X))\n",
    "c"
   ]
  },
  {
   "cell_type": "code",
   "execution_count": 8,
   "metadata": {},
   "outputs": [
    {
     "data": {
      "text/plain": [
       "array([0, 2, 3, ..., 0, 0, 0])"
      ]
     },
     "execution_count": 8,
     "metadata": {},
     "output_type": "execute_result"
    }
   ],
   "source": [
    "hc = AgglomerativeClustering(n_clusters=9, affinity='manhattan', linkage='average')\n",
    "y_hc = hc.fit_predict(X)\n",
    "y_hc"
   ]
  },
  {
   "cell_type": "code",
   "execution_count": 9,
   "metadata": {},
   "outputs": [
    {
     "data": {
      "image/png": "[encoded data removed]",
      "text/plain": [
       "<Figure size 432x288 with 1 Axes>"
      ]
     },
     "metadata": {},
     "output_type": "display_data"
    }
   ],
   "source": [
    "plt.scatter(X[y_hc == 0, 0], X[y_hc == 0, 1], s = 100, c = 'red', label = '0')\n",
    "plt.scatter(X[y_hc == 1, 0], X[y_hc == 1, 1], s = 100, c = 'blue', label = '1')\n",
    "plt.scatter(X[y_hc == 2, 0], X[y_hc == 2, 1], s = 100, c = 'green', label = '2')\n",
    "plt.scatter(X[y_hc == 3, 0], X[y_hc == 3, 1], s = 100, c = 'cyan', label = '3')\n",
    "plt.scatter(X[y_hc == 4, 0], X[y_hc == 4, 1], s = 100, c = 'magenta', label = '4')\n",
    "plt.scatter(X[y_hc == 5, 0], X[y_hc == 5, 1], s = 100, c = 'black', label = '5')\n",
    "plt.scatter(X[y_hc == 6, 0], X[y_hc == 6, 1], s = 100, c = 'yellow', label = '6')\n",
    "plt.scatter(X[y_hc == 7, 0], X[y_hc == 7, 1], s = 100, c = 'brown', label = '7')\n",
    "plt.scatter(X[y_hc == 8, 0], X[y_hc == 8, 1], s = 100, c = 'cyan', label = '8')\n",
    "plt.scatter(X[y_hc == 9, 0], X[y_hc == 9, 1], s = 100, c = 'magenta', label = '9')\n",
    "plt.title('Cluster of Digits')\n",
    "plt.xlabel('Digit')\n",
    "plt.ylabel('Frequency')\n",
    "plt.legend()\n",
    "plt.show()"
   ]
  },
  {
   "cell_type": "code",
   "execution_count": 10,
   "metadata": {},
   "outputs": [
    {
     "name": "stdout",
     "output_type": "stream",
     "text": [
      "0.20965561915399752\n"
     ]
    }
   ],
   "source": [
    "print(silhouette_score(data,y_hc, metric='manhattan'))"
   ]
  },
  {
   "cell_type": "code",
   "execution_count": 11,
   "metadata": {},
   "outputs": [
    {
     "data": {
      "text/plain": [
       "array([0, 3, 1, ..., 0, 0, 0])"
      ]
     },
     "execution_count": 11,
     "metadata": {},
     "output_type": "execute_result"
    }
   ],
   "source": [
    "hc = AgglomerativeClustering(n_clusters=9, affinity='euclidean', linkage='average')\n",
    "y_hc = hc.fit_predict(X)\n",
    "y_hc"
   ]
  },
  {
   "cell_type": "code",
   "execution_count": 12,
   "metadata": {},
   "outputs": [
    {
     "name": "stdout",
     "output_type": "stream",
     "text": [
      "0.1654104423553367\n"
     ]
    }
   ],
   "source": [
    "print(silhouette_score(data,y_hc, metric='euclidean'))"
   ]
  },
  {
   "cell_type": "code",
   "execution_count": 13,
   "metadata": {},
   "outputs": [
    {
     "data": {
      "text/plain": [
       "array([0, 0, 4, ..., 8, 0, 0])"
      ]
     },
     "execution_count": 13,
     "metadata": {},
     "output_type": "execute_result"
    }
   ],
   "source": [
    "hc = AgglomerativeClustering(n_clusters=9, affinity='cosine', linkage='average')\n",
    "y_hc = hc.fit_predict(X)\n",
    "y_hc"
   ]
  },
  {
   "cell_type": "code",
   "execution_count": 14,
   "metadata": {},
   "outputs": [
    {
     "name": "stdout",
     "output_type": "stream",
     "text": [
      "0.2253536459932579\n"
     ]
    }
   ],
   "source": [
    "print(silhouette_score(data,y_hc, metric='cosine'))"
   ]
  },
  {
   "cell_type": "code",
   "execution_count": 15,
   "metadata": {},
   "outputs": [
    {
     "data": {
      "text/plain": [
       "array([0, 2, 3, ..., 0, 0, 0])"
      ]
     },
     "execution_count": 15,
     "metadata": {},
     "output_type": "execute_result"
    }
   ],
   "source": [
    "hc = AgglomerativeClustering(n_clusters=9, affinity='l1', linkage='average')\n",
    "y_hc = hc.fit_predict(X)\n",
    "y_hc"
   ]
  },
  {
   "cell_type": "code",
   "execution_count": 71,
   "metadata": {},
   "outputs": [
    {
     "name": "stdout",
     "output_type": "stream",
     "text": [
      "0.13067260930624497\n"
     ]
    }
   ],
   "source": [
    "print(silhouette_score(data,y_hc, metric='l1'))"
   ]
  },
  {
   "cell_type": "code",
   "execution_count": 16,
   "metadata": {},
   "outputs": [
    {
     "data": {
      "text/plain": [
       "array([0, 3, 1, ..., 0, 0, 0])"
      ]
     },
     "execution_count": 16,
     "metadata": {},
     "output_type": "execute_result"
    }
   ],
   "source": [
    "hc = AgglomerativeClustering(n_clusters=9, affinity='l2', linkage='average')\n",
    "y_hc = hc.fit_predict(X)\n",
    "y_hc"
   ]
  },
  {
   "cell_type": "code",
   "execution_count": 17,
   "metadata": {},
   "outputs": [
    {
     "name": "stdout",
     "output_type": "stream",
     "text": [
      "0.1654104423553367\n"
     ]
    }
   ],
   "source": [
    "print(silhouette_score(data,y_hc, metric='l2'))"
   ]
  },
  {
   "cell_type": "code",
   "execution_count": 19,
   "metadata": {},
   "outputs": [
    {
     "data": {
      "text/plain": [
       "array([[0.        , 0.69808917, 0.68535032, ..., 0.71719745, 0.75286624,\n",
       "        0.75286624],\n",
       "       [0.69808917, 0.        , 0.67261146, ..., 0.68280255, 0.69681529,\n",
       "        0.69681529],\n",
       "       [0.68535032, 0.67261146, 0.        , ..., 0.68025478, 0.72611465,\n",
       "        0.72611465],\n",
       "       ...,\n",
       "       [0.71719745, 0.68280255, 0.68025478, ..., 0.        , 0.71974522,\n",
       "        0.71974522],\n",
       "       [0.75286624, 0.69681529, 0.72611465, ..., 0.71974522, 0.        ,\n",
       "        1.        ],\n",
       "       [0.75286624, 0.69681529, 0.72611465, ..., 0.71974522, 1.        ,\n",
       "        0.        ]])"
      ]
     },
     "execution_count": 19,
     "metadata": {},
     "output_type": "execute_result"
    }
   ],
   "source": [
    "from scipy.spatial.distance import pdist, squareform\n",
    "squareform(1 - pdist(data, metric='hamming'))"
   ]
  },
  {
   "cell_type": "code",
   "execution_count": 21,
   "metadata": {},
   "outputs": [
    {
     "name": "stdout",
     "output_type": "stream",
     "text": [
      "1 loop, best of 3: 4.46 s per loop\n"
     ]
    }
   ],
   "source": [
    "%timeit squareform(1 - pdist(data, metric='hamming'))"
   ]
  },
  {
   "cell_type": "code",
   "execution_count": null,
   "metadata": {},
   "outputs": [],
   "source": []
  }
 ],
 "metadata": {
  "kernelspec": {
   "display_name": "Python 3",
   "language": "python",
   "name": "python3"
  },
  "language_info": {
   "codemirror_mode": {
    "name": "ipython",
    "version": 2
   },
   "file_extension": ".py",
   "mimetype": "text/x-python",
   "name": "python",
   "nbconvert_exporter": "python",
   "pygments_lexer": "ipython2",
   "version": "2.7.15"
  }
 },
 "nbformat": 4,
 "nbformat_minor": 2
}
